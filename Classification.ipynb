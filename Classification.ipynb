{
 "cells": [
  {
   "cell_type": "markdown",
   "metadata": {},
   "source": [
    "## Оценка модели по скользящему контролю"
   ]
  },
  {
   "cell_type": "code",
   "execution_count": 1,
   "metadata": {},
   "outputs": [],
   "source": [
    "from sklearn import datasets\n",
    "from sklearn.model_selection import train_test_split\n",
    "import numpy as np\n",
    "import matplotlib.pyplot as plt\n",
    "from tqdm import tqdm\n",
    "import pandas as pd"
   ]
  },
  {
   "cell_type": "code",
   "execution_count": 5,
   "metadata": {},
   "outputs": [],
   "source": [
    "X, y = datasets.make_regression(n_samples=2500, n_features=5, n_informative=3)"
   ]
  },
  {
   "cell_type": "code",
   "execution_count": 122,
   "metadata": {
    "code_folding": [
     0
    ]
   },
   "outputs": [],
   "source": [
    "class Node:\n",
    "    def __init__(self, feature=None, threshold=None, left=None, right=None, *, value=None):\n",
    "        self.feature = feature\n",
    "        self.threshold = threshold\n",
    "        self.left = left\n",
    "        self.right = right\n",
    "        self.value = value\n",
    "    \n",
    "    def is_leaf_node(self):\n",
    "        return self.value is not None"
   ]
  },
  {
   "cell_type": "code",
   "execution_count": 123,
   "metadata": {
    "code_folding": [
     0
    ],
    "run_control": {
     "marked": false
    }
   },
   "outputs": [],
   "source": [
    "class DecisionTree:\n",
    "    def __init__(self, min_samples=2, max_depth=20):\n",
    "        self.min_samples = min_samples\n",
    "        self.max_depth = max_depth\n",
    "        self.tree = []\n",
    "    \n",
    "    def fit(self, X, y):\n",
    "        self.tree = self.grow_tree(X, y)\n",
    "    \n",
    "    def predict(self, X):\n",
    "        return np.array([self.travers_tree(x, self.tree) for x in X])\n",
    "    \n",
    "    def constant_prediction(self, y):\n",
    "        return np.sum(y) / len(y)\n",
    "\n",
    "    def loss_function(self, y):\n",
    "        c = np.sum(y) / len(y)\n",
    "        mse = np.sum((c - y)**2) / len(y)\n",
    "        mae = np.sum(np.abs(c - y)) / len(y)\n",
    "        return mse\n",
    "    \n",
    "    def best_split(self, X, y):\n",
    "        best_feature, best_threshold = None, None\n",
    "        best_gain = -1\n",
    "        \n",
    "        indexes = np.random.choice(X.shape[1])\n",
    "        \n",
    "        for i in range(X.shape[1]):\n",
    "#         for i in [indexes]:\n",
    "            thresholds = np.unique(X[:, i])\n",
    "            for threshold in thresholds:\n",
    "                gain = self.information_gain(X[:, i], y, threshold)\n",
    "                if gain > best_gain:\n",
    "                    best_gain = gain\n",
    "                    best_feature = i\n",
    "                    best_threshold = threshold\n",
    "        return best_feature, best_threshold\n",
    "    \n",
    "    def information_gain(self, X_column, y, threshold):        \n",
    "        n = len(y)\n",
    "        parent = self.loss_function(y)\n",
    "        \n",
    "        left_indexes = np.argwhere(X_column <= threshold).flatten()\n",
    "        right_indexes = np.argwhere(X_column > threshold).flatten()\n",
    "        \n",
    "        if len(left_indexes) == 0 or len(right_indexes) == 0:\n",
    "            return 0\n",
    "        \n",
    "        e_l, n_l = self.loss_function(y[left_indexes]), len(left_indexes)\n",
    "        e_r, n_r = self.loss_function(y[right_indexes]), len(right_indexes)\n",
    "        \n",
    "        child = (n_l / n) * e_l + (n_r / n) * e_r\n",
    "        return parent - child\n",
    "    \n",
    "    def grow_tree(self, X, y, depth=0):\n",
    "        n_samples = X.shape[0]\n",
    "        n_labels = len(np.unique(y))\n",
    "        \n",
    "        if n_samples < self.min_samples or n_labels == 1 or depth >= self.max_depth:\n",
    "            return Node(value=self.constant_prediction(y))\n",
    "        \n",
    "        best_feature, best_threshold = self.best_split(X, y)\n",
    "        \n",
    "        left_indexes = np.argwhere(X[:, best_feature] <= best_threshold).flatten()\n",
    "        right_indexes = np.argwhere(X[:, best_feature] > best_threshold).flatten()\n",
    "        \n",
    "        left = self.grow_tree(X[left_indexes, :], y[left_indexes], depth+1)\n",
    "        right = self.grow_tree(X[right_indexes, :], y[right_indexes], depth+1)\n",
    "        \n",
    "        return Node(best_feature, best_threshold, left, right)\n",
    "    \n",
    "    def travers_tree(self, x, tree):\n",
    "        if tree.is_leaf_node():\n",
    "            return tree.value\n",
    "        \n",
    "        if x[tree.feature] <= tree.threshold:\n",
    "            return self.travers_tree(x, tree.left)\n",
    "        return self.travers_tree(x, tree.right)"
   ]
  },
  {
   "cell_type": "code",
   "execution_count": 124,
   "metadata": {
    "code_folding": [
     0
    ],
    "pycharm": {
     "name": "#%%\n"
    },
    "run_control": {
     "marked": false
    }
   },
   "outputs": [],
   "source": [
    "class GBM:\n",
    "    def __init__(self, n_estimators=10, max_depth=3, min_samples=1, lr=0.1):\n",
    "        self.n_estimators = n_estimators\n",
    "        self.max_depth = max_depth\n",
    "        self.min_samples = min_samples\n",
    "        self.trees = []\n",
    "        self.residuals = []\n",
    "        self.first_leaf = None\n",
    "        self.lr = 0.1\n",
    "        self.train_score = []\n",
    "        self.threshold = None\n",
    "        self.labels = []\n",
    "        self.y = []\n",
    "        self.X = []\n",
    "        \n",
    "    def fit(self, X, y):\n",
    "        self.first_leaf = y.mean()\n",
    "        prediction = np.ones(len(y)) * self.first_leaf\n",
    "        \n",
    "        for i in range(self.n_estimators):\n",
    "            residuals = y - prediction\n",
    "            self.residuals.append(residuals)\n",
    "            \n",
    "            tree = DecisionTree(max_depth=self.max_depth, min_samples=self.min_samples)\n",
    "            tree.fit(X, residuals)\n",
    "            self.trees.append(tree)\n",
    "            self.train_score.append(self.score(self.predict(X, len(self.trees)), y))\n",
    "            \n",
    "            prediction += self.lr * tree.predict(X)\n",
    "            \n",
    "    def predict(self, X, n=None):\n",
    "        if n is None: n = self.n_estimators\n",
    "        predictions = np.ones(X.shape[0]) * self.first_leaf\n",
    "        \n",
    "        for i in range(n):\n",
    "            predictions += self.lr * self.trees[i].predict(X)\n",
    "        \n",
    "        self.threshold = np.mean(predictions)\n",
    "        labels = [0 if i <= self.threshold else 1 for i in predictions]\n",
    "        \n",
    "        return labels\n",
    "    \n",
    "    def score(self, predicted, y):\n",
    "        return np.sum(predicted == y) / len(y)\n",
    "    \n",
    "    def roc(self, X, y, n = None, min_precision = 0.8):\n",
    "        if n is None: n = self.n_estimators\n",
    "        predictions = np.ones(X.shape[0]) * self.first_leaf\n",
    "        \n",
    "        for i in range(n):\n",
    "            predictions += self.lr * self.trees[i].predict(X)\n",
    "            \n",
    "        indexes = np.argsort(predictions)[::-1]    \n",
    "        TPR, FPR, P, R = 0, 0, 0, 0\n",
    "        \n",
    "        for gap in predictions[indexes]:\n",
    "            labels = [0 if i <= gap else 1 for i in predictions]\n",
    "\n",
    "            TP, FP, FN, TN = 0, 0, 0, 0\n",
    "\n",
    "            for i in range(len(labels)):\n",
    "                if labels[i] == 0 and y[i] == 0: TP += 1\n",
    "                if labels[i] == 1 and y[i] == 1: TN += 1\n",
    "                if labels[i] == 0 and y[i] == 1: FP += 1\n",
    "                if labels[i] == 1 and y[i] == 0: FN += 1                        \n",
    "\n",
    "            TPR = (TP / (TP + FN))\n",
    "            FPR = (FP / (FP + TN))\n",
    "            R = (TP / (TP + FN))\n",
    "            P = (TP / (TP + FP))\n",
    "\n",
    "            if P > min_precision:\n",
    "                break\n",
    "        \n",
    "        return TPR, FPR, P, R      \n",
    "\n",
    "    def cv(self, X, y, cv=10):\n",
    "        y = np.reshape(y, (len(y), 1))\n",
    "        data = np.concatenate((X, y), axis=1)\n",
    "        np.random.shuffle(data)\n",
    "        \n",
    "        data = pd.DataFrame(data)\n",
    "        accuracy = []\n",
    "        \n",
    "        P, R = [], []\n",
    "        \n",
    "        for i in tqdm(range(cv)):\n",
    "            lenght = int(len(y) / cv)\n",
    "            end = i * lenght + lenght\n",
    "            \n",
    "            if i == cv - 1: \n",
    "                end = -1\n",
    "            \n",
    "            X_test = data.iloc[i * lenght: end, :-1]\n",
    "            X_train = data.drop(index=X_test.index).iloc[:, :-1]\n",
    "            \n",
    "            y_test = data.iloc[i * lenght: end, -1]\n",
    "            y_train = data.drop(index=X_test.index).iloc[:, -1]\n",
    "            \n",
    "            clf = GBM()\n",
    "            clf.fit(np.array(X_train), np.array(y_train))\n",
    "            \n",
    "            self.labels.append(clf.predict(np.array(X_test)))\n",
    "            self.y.append(np.array(y_test))\n",
    "            self.X.append(np.array(X_test))\n",
    "            \n",
    "            x1, x2, p, r = clf.roc(np.array(X_test),\n",
    "                                   np.array(y_test),\n",
    "                                   clf.n_estimators,\n",
    "                                   0.8)\n",
    "            \n",
    "            P.append(p)\n",
    "            R.append(r)\n",
    "        \n",
    "        return np.array(P).flatten(), np.array(R).flatten()"
   ]
  },
  {
   "cell_type": "code",
   "execution_count": 125,
   "metadata": {
    "scrolled": true
   },
   "outputs": [
    {
     "name": "stderr",
     "output_type": "stream",
     "text": [
      "100%|████████████████████████████████████████████████████████████████████████████████████| 5/5 [04:45<00:00, 57.14s/it]\n"
     ]
    }
   ],
   "source": [
    "clf = GBM(n_estimators=30, max_depth=3, lr=0.1)\n",
    "P_cv, R_cv = clf.cv(X, y, cv=5)"
   ]
  },
  {
   "cell_type": "code",
   "execution_count": 126,
   "metadata": {},
   "outputs": [
    {
     "data": {
      "image/png": "[encoded data removed]",
      "text/plain": [
       "<Figure size 432x288 with 1 Axes>"
      ]
     },
     "metadata": {
      "needs_background": "light"
     },
     "output_type": "display_data"
    }
   ],
   "source": [
    "plt.hist(R_cv, label=\"recall\", bins=20, histtype=\"step\")\n",
    "plt.hist(P_cv, label=\"precision\", bins=20, histtype=\"step\")\n",
    "plt.legend()\n",
    "plt.title(\"Model's metrics from cross validation\")\n",
    "plt.xlim(0.0, 1.05)\n",
    "plt.show()"
   ]
  },
  {
   "cell_type": "code",
   "execution_count": 127,
   "metadata": {},
   "outputs": [
    {
     "name": "stdout",
     "output_type": "stream",
     "text": [
      "*** Data and labels from the first fold of cross validation ***\n"
     ]
    },
    {
     "data": {
      "text/html": [
       "<div>\n",
       "<style scoped>\n",
       "    .dataframe tbody tr th:only-of-type {\n",
       "        vertical-align: middle;\n",
       "    }\n",
       "\n",
       "    .dataframe tbody tr th {\n",
       "        vertical-align: top;\n",
       "    }\n",
       "\n",
       "    .dataframe thead th {\n",
       "        text-align: right;\n",
       "    }\n",
       "</style>\n",
       "<table border=\"1\" class=\"dataframe\">\n",
       "  <thead>\n",
       "    <tr style=\"text-align: right;\">\n",
       "      <th></th>\n",
       "      <th>X0</th>\n",
       "      <th>X1</th>\n",
       "      <th>X2</th>\n",
       "      <th>X3</th>\n",
       "      <th>X4</th>\n",
       "      <th>y</th>\n",
       "      <th>labels</th>\n",
       "      <th>b0</th>\n",
       "      <th>b1</th>\n",
       "      <th>b2</th>\n",
       "      <th>b3</th>\n",
       "      <th>b4</th>\n",
       "    </tr>\n",
       "  </thead>\n",
       "  <tbody>\n",
       "    <tr>\n",
       "      <th>0</th>\n",
       "      <td>-1.534666</td>\n",
       "      <td>-0.743013</td>\n",
       "      <td>0.907057</td>\n",
       "      <td>-1.733617</td>\n",
       "      <td>-1.229205</td>\n",
       "      <td>1</td>\n",
       "      <td>1</td>\n",
       "      <td>0</td>\n",
       "      <td>1</td>\n",
       "      <td>0</td>\n",
       "      <td>1</td>\n",
       "      <td>0</td>\n",
       "    </tr>\n",
       "    <tr>\n",
       "      <th>1</th>\n",
       "      <td>-2.893171</td>\n",
       "      <td>3.191416</td>\n",
       "      <td>4.407766</td>\n",
       "      <td>-1.354518</td>\n",
       "      <td>-3.993879</td>\n",
       "      <td>0</td>\n",
       "      <td>0</td>\n",
       "      <td>2</td>\n",
       "      <td>1</td>\n",
       "      <td>2</td>\n",
       "      <td>0</td>\n",
       "      <td>0</td>\n",
       "    </tr>\n",
       "    <tr>\n",
       "      <th>2</th>\n",
       "      <td>-0.142274</td>\n",
       "      <td>1.379524</td>\n",
       "      <td>1.365730</td>\n",
       "      <td>-0.069893</td>\n",
       "      <td>-0.952841</td>\n",
       "      <td>0</td>\n",
       "      <td>0</td>\n",
       "      <td>1</td>\n",
       "      <td>1</td>\n",
       "      <td>0</td>\n",
       "      <td>0</td>\n",
       "      <td>2</td>\n",
       "    </tr>\n",
       "    <tr>\n",
       "      <th>3</th>\n",
       "      <td>0.700192</td>\n",
       "      <td>1.180690</td>\n",
       "      <td>1.281202</td>\n",
       "      <td>-0.287516</td>\n",
       "      <td>-0.610743</td>\n",
       "      <td>0</td>\n",
       "      <td>1</td>\n",
       "      <td>1</td>\n",
       "      <td>0</td>\n",
       "      <td>1</td>\n",
       "      <td>0</td>\n",
       "      <td>0</td>\n",
       "    </tr>\n",
       "    <tr>\n",
       "      <th>4</th>\n",
       "      <td>-2.005464</td>\n",
       "      <td>-0.486497</td>\n",
       "      <td>0.687225</td>\n",
       "      <td>-1.131783</td>\n",
       "      <td>-1.219715</td>\n",
       "      <td>1</td>\n",
       "      <td>1</td>\n",
       "      <td>0</td>\n",
       "      <td>3</td>\n",
       "      <td>2</td>\n",
       "      <td>0</td>\n",
       "      <td>0</td>\n",
       "    </tr>\n",
       "  </tbody>\n",
       "</table>\n",
       "</div>"
      ],
      "text/plain": [
       "         X0        X1        X2        X3        X4  y  labels  b0  b1  b2  \\\n",
       "0 -1.534666 -0.743013  0.907057 -1.733617 -1.229205  1       1   0   1   0   \n",
       "1 -2.893171  3.191416  4.407766 -1.354518 -3.993879  0       0   2   1   2   \n",
       "2 -0.142274  1.379524  1.365730 -0.069893 -0.952841  0       0   1   1   0   \n",
       "3  0.700192  1.180690  1.281202 -0.287516 -0.610743  0       1   1   0   1   \n",
       "4 -2.005464 -0.486497  0.687225 -1.131783 -1.219715  1       1   0   3   2   \n",
       "\n",
       "   b3  b4  \n",
       "0   1   0  \n",
       "1   0   0  \n",
       "2   0   2  \n",
       "3   0   0  \n",
       "4   0   0  "
      ]
     },
     "execution_count": 127,
     "metadata": {},
     "output_type": "execute_result"
    }
   ],
   "source": [
    "df = pd.DataFrame(clf.X[0][:, :5], columns=[\"X0\", \"X1\", \"X2\", \"X3\", \"X4\"])\n",
    "df[\"y\"] = clf.y[0].astype(int)\n",
    "df[\"labels\"] = clf.labels[0]\n",
    "\n",
    "B = 5\n",
    "pb = np.random.poisson(1, [len(clf.y[0]), B])\n",
    "\n",
    "for i in range(B):\n",
    "    df[\"b\" + str(i)] = pb[:, i]\n",
    "\n",
    "print(\"*** Data and labels from the first fold of cross validation ***\")\n",
    "df.head()"
   ]
  },
  {
   "cell_type": "markdown",
   "metadata": {},
   "source": [
    "## Оценка параметров модели используя бутстрап"
   ]
  },
  {
   "cell_type": "code",
   "execution_count": 128,
   "metadata": {
    "code_folding": [
     0
    ],
    "scrolled": true
   },
   "outputs": [],
   "source": [
    "def run_bootstrap(labels, y, method=\"poisson\"):\n",
    "    N = len(y)\n",
    "    B = 1000\n",
    "\n",
    "    P, R, S = [], [], []\n",
    "    \n",
    "    if method == \"poisson\":\n",
    "        bootstrap = np.random.poisson(1, [N, B])\n",
    "    if method == \"multinomial\":\n",
    "        bootstrap = np.random.multinomial(B, [1/B]*B, N)\n",
    "    if method == \"binomial\":\n",
    "        bootstrap = np.random.binomial(N, 1/N, [N, B])\n",
    "    \n",
    "    for i in range(B):\n",
    "        TP, FP, TN, FN = 0, 0, 0, 0\n",
    "\n",
    "        for j in range(N):\n",
    "            if labels[j] == 0 and y[j] == 0: TP += bootstrap[j][i]\n",
    "            if labels[j] == 1 and y[j] == 1: TN += bootstrap[j][i]\n",
    "            if labels[j] == 1 and y[j] == 0: FN += bootstrap[j][i]\n",
    "            if labels[j] == 0 and y[j] == 1: FP += bootstrap[j][i]\n",
    "\n",
    "        P.append(TP / (TP + FP))\n",
    "        R.append(TP / (TP + FN))\n",
    "        S.append(TN / (TN + FP))\n",
    "        \n",
    "    return P, R, S"
   ]
  },
  {
   "cell_type": "code",
   "execution_count": 129,
   "metadata": {
    "code_folding": [
     2
    ],
    "run_control": {
     "marked": false
    }
   },
   "outputs": [
    {
     "name": "stdout",
     "output_type": "stream",
     "text": [
      "*** Estimating model by bootsraping its predicted labels for each fold ***\n",
      "*** poisson ***\n"
     ]
    },
    {
     "data": {
      "image/png": "[encoded data removed]",
      "text/plain": [
       "<Figure size 1080x288 with 3 Axes>"
      ]
     },
     "metadata": {
      "needs_background": "light"
     },
     "output_type": "display_data"
    },
    {
     "name": "stdout",
     "output_type": "stream",
     "text": [
      "*** multinomial ***\n"
     ]
    },
    {
     "data": {
      "image/png": "[encoded data removed]",
      "text/plain": [
       "<Figure size 1080x288 with 3 Axes>"
      ]
     },
     "metadata": {
      "needs_background": "light"
     },
     "output_type": "display_data"
    },
    {
     "name": "stdout",
     "output_type": "stream",
     "text": [
      "*** binomial ***\n"
     ]
    },
    {
     "data": {
      "image/png": "[encoded data removed]",
      "text/plain": [
       "<Figure size 1080x288 with 3 Axes>"
      ]
     },
     "metadata": {
      "needs_background": "light"
     },
     "output_type": "display_data"
    }
   ],
   "source": [
    "print(\"*** Estimating model by bootsraping its predicted labels for each fold ***\")\n",
    "\n",
    "for bs in [\"poisson\", \"multinomial\", \"binomial\"]:\n",
    "    fig, axes = plt.subplots(nrows=1, ncols=3, figsize=(15, 4))\n",
    "    \n",
    "    for i in range(len(clf.labels)):\n",
    "        P, R, S = run_bootstrap(clf.labels[i], clf.y[i], bs)\n",
    "\n",
    "        axes[0].hist(P, histtype=\"step\")\n",
    "        axes[0].set_xlim(0, 1.05)\n",
    "        axes[0].set_xlabel(\"precision\")\n",
    "\n",
    "        axes[1].hist(R, histtype=\"step\")\n",
    "        axes[1].set_xlim(0, 1.05)\n",
    "        axes[1].set_xlabel(\"recall\")\n",
    "\n",
    "        axes[2].hist(S, histtype=\"step\")\n",
    "        axes[2].set_xlim(0, 1.05)\n",
    "        axes[2].set_xlabel(\"sencitivity\")\n",
    "\n",
    "    print(\"*** \" + bs + \" ***\")\n",
    "    plt.show()"
   ]
  },
  {
   "cell_type": "code",
   "execution_count": null,
   "metadata": {},
   "outputs": [],
   "source": []
  }
 ],
 "metadata": {
  "kernelspec": {
   "display_name": "Python 3",
   "language": "python",
   "name": "python3"
  },
  "language_info": {
   "codemirror_mode": {
    "name": "ipython",
    "version": 3
   },
   "file_extension": ".py",
   "mimetype": "text/x-python",
   "name": "python",
   "nbconvert_exporter": "python",
   "pygments_lexer": "ipython3",
   "version": "3.8.3"
  },
  "toc": {
   "base_numbering": 1,
   "nav_menu": {},
   "number_sections": true,
   "sideBar": true,
   "skip_h1_title": false,
   "title_cell": "Table of Contents",
   "title_sidebar": "Contents",
   "toc_cell": false,
   "toc_position": {},
   "toc_section_display": true,
   "toc_window_display": false
  },
  "varInspector": {
   "cols": {
    "lenName": 16,
    "lenType": 16,
    "lenVar": 40
   },
   "kernels_config": {
    "python": {
     "delete_cmd_postfix": "",
     "delete_cmd_prefix": "del ",
     "library": "var_list.py",
     "varRefreshCmd": "print(var_dic_list())"
    },
    "r": {
     "delete_cmd_postfix": ") ",
     "delete_cmd_prefix": "rm(",
     "library": "var_list.r",
     "varRefreshCmd": "cat(var_dic_list()) "
    }
   },
   "types_to_exclude": [
    "module",
    "function",
    "builtin_function_or_method",
    "instance",
    "_Feature"
   ],
   "window_display": false
  }
 },
 "nbformat": 4,
 "nbformat_minor": 4
}
