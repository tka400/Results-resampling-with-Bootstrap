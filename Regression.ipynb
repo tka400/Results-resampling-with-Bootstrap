{
 "cells": [
  {
   "cell_type": "markdown",
   "metadata": {},
   "source": [
    "## Оценка модели по скользящему контролю"
   ]
  },
  {
   "cell_type": "code",
   "execution_count": 1,
   "metadata": {},
   "outputs": [],
   "source": [
    "from sklearn import datasets\n",
    "from sklearn.model_selection import train_test_split\n",
    "import numpy as np\n",
    "import matplotlib.pyplot as plt\n",
    "from tqdm import tqdm\n",
    "import pandas as pd"
   ]
  },
  {
   "cell_type": "code",
   "execution_count": 2,
   "metadata": {},
   "outputs": [],
   "source": [
    "X, y = datasets.make_regression(n_samples=5000, n_features=5, n_informative=3)"
   ]
  },
  {
   "cell_type": "code",
   "execution_count": 3,
   "metadata": {
    "code_folding": [
     0
    ]
   },
   "outputs": [],
   "source": [
    "class Node:\n",
    "    def __init__(self, feature=None, threshold=None, left=None, right=None, *, value=None):\n",
    "        self.feature = feature\n",
    "        self.threshold = threshold\n",
    "        self.left = left\n",
    "        self.right = right\n",
    "        self.value = value\n",
    "    \n",
    "    def is_leaf_node(self):\n",
    "        return self.value is not None"
   ]
  },
  {
   "cell_type": "code",
   "execution_count": 4,
   "metadata": {
    "code_folding": [
     0
    ],
    "run_control": {
     "marked": false
    }
   },
   "outputs": [],
   "source": [
    "class DecisionTree:\n",
    "    def __init__(self, min_samples=2, max_depth=20):\n",
    "        self.min_samples = min_samples\n",
    "        self.max_depth = max_depth\n",
    "        self.tree = []\n",
    "    \n",
    "    def fit(self, X, y):\n",
    "        self.tree = self.grow_tree(X, y)\n",
    "    \n",
    "    def predict(self, X):\n",
    "        return np.array([self.travers_tree(x, self.tree) for x in X])\n",
    "    \n",
    "    def constant_prediction(self, y):\n",
    "        return np.sum(y) / len(y)\n",
    "\n",
    "    def loss_function(self, y):\n",
    "        c = np.sum(y) / len(y)\n",
    "        mse = np.sum((c - y)**2) / len(y)\n",
    "        mae = np.sum(np.abs(c - y)) / len(y)\n",
    "        return mse\n",
    "    \n",
    "    def best_split(self, X, y):\n",
    "        best_feature, best_threshold = None, None\n",
    "        best_gain = -1\n",
    "        \n",
    "        indexes = np.random.choice(X.shape[1])\n",
    "        \n",
    "        for i in range(X.shape[1]):\n",
    "#         for i in [indexes]:\n",
    "            thresholds = np.unique(X[:, i])\n",
    "            for threshold in thresholds:\n",
    "                gain = self.information_gain(X[:, i], y, threshold)\n",
    "                if gain > best_gain:\n",
    "                    best_gain = gain\n",
    "                    best_feature = i\n",
    "                    best_threshold = threshold\n",
    "        return best_feature, best_threshold\n",
    "    \n",
    "    def information_gain(self, X_column, y, threshold):        \n",
    "        n = len(y)\n",
    "        parent = self.loss_function(y)\n",
    "        \n",
    "        left_indexes = np.argwhere(X_column <= threshold).flatten()\n",
    "        right_indexes = np.argwhere(X_column > threshold).flatten()\n",
    "        \n",
    "        if len(left_indexes) == 0 or len(right_indexes) == 0:\n",
    "            return 0\n",
    "        \n",
    "        e_l, n_l = self.loss_function(y[left_indexes]), len(left_indexes)\n",
    "        e_r, n_r = self.loss_function(y[right_indexes]), len(right_indexes)\n",
    "        \n",
    "        child = (n_l / n) * e_l + (n_r / n) * e_r\n",
    "        return parent - child\n",
    "    \n",
    "    def grow_tree(self, X, y, depth=0):\n",
    "        n_samples = X.shape[0]\n",
    "        n_labels = len(np.unique(y))\n",
    "        \n",
    "        if n_samples < self.min_samples or n_labels == 1 or depth >= self.max_depth:\n",
    "            return Node(value=self.constant_prediction(y))\n",
    "        \n",
    "        best_feature, best_threshold = self.best_split(X, y)\n",
    "        \n",
    "        left_indexes = np.argwhere(X[:, best_feature] <= best_threshold).flatten()\n",
    "        right_indexes = np.argwhere(X[:, best_feature] > best_threshold).flatten()\n",
    "        \n",
    "        left = self.grow_tree(X[left_indexes, :], y[left_indexes], depth+1)\n",
    "        right = self.grow_tree(X[right_indexes, :], y[right_indexes], depth+1)\n",
    "        \n",
    "        return Node(best_feature, best_threshold, left, right)\n",
    "    \n",
    "    def travers_tree(self, x, tree):\n",
    "        if tree.is_leaf_node():\n",
    "            return tree.value\n",
    "        \n",
    "        if x[tree.feature] <= tree.threshold:\n",
    "            return self.travers_tree(x, tree.left)\n",
    "        return self.travers_tree(x, tree.right)"
   ]
  },
  {
   "cell_type": "code",
   "execution_count": 5,
   "metadata": {
    "code_folding": [
     0
    ],
    "pycharm": {
     "name": "#%%\n"
    },
    "run_control": {
     "marked": false
    }
   },
   "outputs": [],
   "source": [
    "class GBM:\n",
    "    def __init__(self, n_estimators=10, max_depth=3, min_samples=1, lr=0.1):\n",
    "        self.n_estimators = n_estimators\n",
    "        self.max_depth = max_depth\n",
    "        self.min_samples = min_samples\n",
    "        self.trees = []\n",
    "        self.residuals = []\n",
    "        self.first_leaf = None\n",
    "        self.lr = 0.1\n",
    "        self.train_score = []\n",
    "        self.threshold = None\n",
    "        self.labels = []\n",
    "        self.y = []\n",
    "        self.X = []\n",
    "        \n",
    "    def fit(self, X, y):\n",
    "        self.first_leaf = y.mean()\n",
    "        prediction = np.ones(len(y)) * self.first_leaf\n",
    "        \n",
    "        for i in range(self.n_estimators):\n",
    "            residuals = y - prediction\n",
    "            self.residuals.append(residuals)\n",
    "            \n",
    "            tree = DecisionTree(max_depth=self.max_depth, min_samples=self.min_samples)\n",
    "            tree.fit(X, residuals)\n",
    "            self.trees.append(tree)\n",
    "            self.train_score.append(self.score(self.predict(X, len(self.trees)), y))\n",
    "            \n",
    "            prediction += self.lr * tree.predict(X)\n",
    "            \n",
    "    def predict(self, X, n=None):\n",
    "        if n is None: n = self.n_estimators\n",
    "        predictions = np.ones(X.shape[0]) * self.first_leaf\n",
    "        \n",
    "        for i in range(n):\n",
    "            predictions += self.lr * self.trees[i].predict(X)\n",
    "        \n",
    "#         self.threshold = np.mean(predictions)\n",
    "#         labels = [0 if i <= self.threshold else 1 for i in predictions]\n",
    "        \n",
    "        return predictions\n",
    "    \n",
    "#     def score(self, predicted, y):\n",
    "#         return np.sum(predicted == y) / len(y)\n",
    "\n",
    "    def score(self, predicted, y):\n",
    "        return 1 - np.sum((predicted - y)**2) / np.sum((y.mean() - y)**2)\n",
    "    \n",
    "#     def roc(self, X, y, n = None, min_precision = 0.8):\n",
    "#         if n is None: n = self.n_estimators\n",
    "#         predictions = np.ones(X.shape[0]) * self.first_leaf\n",
    "        \n",
    "#         for i in range(n):\n",
    "#             predictions += self.lr * self.trees[i].predict(X)\n",
    "            \n",
    "#         indexes = np.argsort(predictions)[::-1]    \n",
    "#         TPR, FPR, P, R = 0, 0, 0, 0\n",
    "        \n",
    "#         for gap in predictions[indexes]:\n",
    "#             labels = [0 if i <= gap else 1 for i in predictions]\n",
    "\n",
    "#             TP, FP, FN, TN = 0, 0, 0, 0\n",
    "\n",
    "#             for i in range(len(labels)):\n",
    "#                 if labels[i] == 0 and y[i] == 0: TP += 1\n",
    "#                 if labels[i] == 1 and y[i] == 1: TN += 1\n",
    "#                 if labels[i] == 0 and y[i] == 1: FP += 1\n",
    "#                 if labels[i] == 1 and y[i] == 0: FN += 1                        \n",
    "\n",
    "#             TPR = (TP / (TP + FN))\n",
    "#             FPR = (FP / (FP + TN))\n",
    "#             R = (TP / (TP + FN))\n",
    "#             P = (TP / (TP + FP))\n",
    "\n",
    "#             if P > min_precision:\n",
    "#                 break\n",
    "        \n",
    "#         return TPR, FPR, P, R      \n",
    "\n",
    "    def cv(self, X, y, cv=10):\n",
    "        y = np.reshape(y, (len(y), 1))\n",
    "        data = np.concatenate((X, y), axis=1)\n",
    "        np.random.shuffle(data)\n",
    "        \n",
    "        data = pd.DataFrame(data)\n",
    "        accuracy = []\n",
    "        \n",
    "        P, R = [], []\n",
    "        \n",
    "        for i in tqdm(range(cv)):\n",
    "            lenght = int(len(y) / cv)\n",
    "            end = i * lenght + lenght\n",
    "            \n",
    "            if i == cv - 1: \n",
    "                end = -1\n",
    "            \n",
    "            X_test = data.iloc[i * lenght: end, :-1]\n",
    "            X_train = data.drop(index=X_test.index).iloc[:, :-1]\n",
    "            \n",
    "            y_test = data.iloc[i * lenght: end, -1]\n",
    "            y_train = data.drop(index=X_test.index).iloc[:, -1]\n",
    "            \n",
    "            clf = GBM()\n",
    "            clf.fit(np.array(X_train), np.array(y_train))\n",
    "            \n",
    "            accuracy.append(self.score(clf.predict(np.array(X_test)), np.array(y_test)))\n",
    "            \n",
    "            self.labels.append(clf.predict(np.array(X_test)))\n",
    "            self.y.append(np.array(y_test))\n",
    "            self.X.append(np.array(X_test))\n",
    "\n",
    "        return accuracy"
   ]
  },
  {
   "cell_type": "code",
   "execution_count": 6,
   "metadata": {
    "scrolled": true
   },
   "outputs": [
    {
     "name": "stderr",
     "output_type": "stream",
     "text": [
      "100%|█████████████████████████████████████████████████████████████████████████████████| 10/10 [26:53<00:00, 161.34s/it]\n"
     ]
    }
   ],
   "source": [
    "clf = GBM(n_estimators=30, max_depth=3, lr=0.1)\n",
    "r2 = clf.cv(X, y, cv=10)"
   ]
  },
  {
   "cell_type": "code",
   "execution_count": 62,
   "metadata": {},
   "outputs": [
    {
     "data": {
      "image/png": "[encoded data removed]",
      "text/plain": [
       "<Figure size 432x288 with 1 Axes>"
      ]
     },
     "metadata": {
      "needs_background": "light"
     },
     "output_type": "display_data"
    }
   ],
   "source": [
    "plt.hist(r2, label=\"r2\", bins=20, histtype=\"step\")\n",
    "plt.legend()\n",
    "plt.title(\"Model's metrics from cross validation\")\n",
    "plt.xlim(0.0, 1.05)\n",
    "plt.savefig(\"r2.png\")\n",
    "plt.show()"
   ]
  },
  {
   "cell_type": "code",
   "execution_count": 63,
   "metadata": {},
   "outputs": [
    {
     "name": "stdout",
     "output_type": "stream",
     "text": [
      "*** Data and labels from the first fold of cross validation ***\n"
     ]
    },
    {
     "data": {
      "text/html": [
       "<div>\n",
       "<style scoped>\n",
       "    .dataframe tbody tr th:only-of-type {\n",
       "        vertical-align: middle;\n",
       "    }\n",
       "\n",
       "    .dataframe tbody tr th {\n",
       "        vertical-align: top;\n",
       "    }\n",
       "\n",
       "    .dataframe thead th {\n",
       "        text-align: right;\n",
       "    }\n",
       "</style>\n",
       "<table border=\"1\" class=\"dataframe\">\n",
       "  <thead>\n",
       "    <tr style=\"text-align: right;\">\n",
       "      <th></th>\n",
       "      <th>X0</th>\n",
       "      <th>X1</th>\n",
       "      <th>X2</th>\n",
       "      <th>X3</th>\n",
       "      <th>X4</th>\n",
       "      <th>y</th>\n",
       "      <th>labels</th>\n",
       "      <th>b0</th>\n",
       "      <th>b1</th>\n",
       "      <th>b2</th>\n",
       "      <th>b3</th>\n",
       "      <th>b4</th>\n",
       "    </tr>\n",
       "  </thead>\n",
       "  <tbody>\n",
       "    <tr>\n",
       "      <th>188</th>\n",
       "      <td>0.819239</td>\n",
       "      <td>-0.094555</td>\n",
       "      <td>-1.209262</td>\n",
       "      <td>-0.131128</td>\n",
       "      <td>-0.544196</td>\n",
       "      <td>-27</td>\n",
       "      <td>1.057282</td>\n",
       "      <td>3</td>\n",
       "      <td>1</td>\n",
       "      <td>2</td>\n",
       "      <td>1</td>\n",
       "      <td>2</td>\n",
       "    </tr>\n",
       "    <tr>\n",
       "      <th>354</th>\n",
       "      <td>1.831594</td>\n",
       "      <td>1.073355</td>\n",
       "      <td>-0.735654</td>\n",
       "      <td>0.073380</td>\n",
       "      <td>1.668444</td>\n",
       "      <td>124</td>\n",
       "      <td>35.341036</td>\n",
       "      <td>1</td>\n",
       "      <td>0</td>\n",
       "      <td>3</td>\n",
       "      <td>1</td>\n",
       "      <td>0</td>\n",
       "    </tr>\n",
       "    <tr>\n",
       "      <th>98</th>\n",
       "      <td>1.224773</td>\n",
       "      <td>1.828570</td>\n",
       "      <td>-1.088847</td>\n",
       "      <td>1.137558</td>\n",
       "      <td>-0.099387</td>\n",
       "      <td>17</td>\n",
       "      <td>7.253636</td>\n",
       "      <td>0</td>\n",
       "      <td>2</td>\n",
       "      <td>1</td>\n",
       "      <td>1</td>\n",
       "      <td>1</td>\n",
       "    </tr>\n",
       "    <tr>\n",
       "      <th>346</th>\n",
       "      <td>0.967673</td>\n",
       "      <td>0.213736</td>\n",
       "      <td>-0.184513</td>\n",
       "      <td>0.789442</td>\n",
       "      <td>1.038730</td>\n",
       "      <td>81</td>\n",
       "      <td>28.073682</td>\n",
       "      <td>1</td>\n",
       "      <td>1</td>\n",
       "      <td>2</td>\n",
       "      <td>0</td>\n",
       "      <td>1</td>\n",
       "    </tr>\n",
       "    <tr>\n",
       "      <th>355</th>\n",
       "      <td>1.360334</td>\n",
       "      <td>-0.337291</td>\n",
       "      <td>-0.814275</td>\n",
       "      <td>-0.874890</td>\n",
       "      <td>1.511346</td>\n",
       "      <td>84</td>\n",
       "      <td>22.201354</td>\n",
       "      <td>3</td>\n",
       "      <td>0</td>\n",
       "      <td>0</td>\n",
       "      <td>0</td>\n",
       "      <td>2</td>\n",
       "    </tr>\n",
       "    <tr>\n",
       "      <th>318</th>\n",
       "      <td>-0.442565</td>\n",
       "      <td>1.109052</td>\n",
       "      <td>-1.669531</td>\n",
       "      <td>0.773916</td>\n",
       "      <td>1.089720</td>\n",
       "      <td>-96</td>\n",
       "      <td>-69.760346</td>\n",
       "      <td>2</td>\n",
       "      <td>0</td>\n",
       "      <td>3</td>\n",
       "      <td>1</td>\n",
       "      <td>1</td>\n",
       "    </tr>\n",
       "    <tr>\n",
       "      <th>162</th>\n",
       "      <td>-0.919113</td>\n",
       "      <td>-0.814049</td>\n",
       "      <td>0.073510</td>\n",
       "      <td>-0.299959</td>\n",
       "      <td>-0.226849</td>\n",
       "      <td>-63</td>\n",
       "      <td>-31.621136</td>\n",
       "      <td>0</td>\n",
       "      <td>1</td>\n",
       "      <td>2</td>\n",
       "      <td>1</td>\n",
       "      <td>1</td>\n",
       "    </tr>\n",
       "    <tr>\n",
       "      <th>23</th>\n",
       "      <td>-2.238698</td>\n",
       "      <td>-0.006450</td>\n",
       "      <td>1.203413</td>\n",
       "      <td>0.014772</td>\n",
       "      <td>0.223556</td>\n",
       "      <td>-76</td>\n",
       "      <td>-16.796488</td>\n",
       "      <td>0</td>\n",
       "      <td>1</td>\n",
       "      <td>0</td>\n",
       "      <td>1</td>\n",
       "      <td>1</td>\n",
       "    </tr>\n",
       "    <tr>\n",
       "      <th>337</th>\n",
       "      <td>0.760865</td>\n",
       "      <td>0.838277</td>\n",
       "      <td>0.549861</td>\n",
       "      <td>-0.489319</td>\n",
       "      <td>0.813946</td>\n",
       "      <td>103</td>\n",
       "      <td>52.775311</td>\n",
       "      <td>1</td>\n",
       "      <td>0</td>\n",
       "      <td>1</td>\n",
       "      <td>0</td>\n",
       "      <td>1</td>\n",
       "    </tr>\n",
       "    <tr>\n",
       "      <th>498</th>\n",
       "      <td>0.274038</td>\n",
       "      <td>-0.241449</td>\n",
       "      <td>2.386236</td>\n",
       "      <td>1.117444</td>\n",
       "      <td>-0.855137</td>\n",
       "      <td>131</td>\n",
       "      <td>51.609444</td>\n",
       "      <td>1</td>\n",
       "      <td>2</td>\n",
       "      <td>1</td>\n",
       "      <td>1</td>\n",
       "      <td>0</td>\n",
       "    </tr>\n",
       "  </tbody>\n",
       "</table>\n",
       "</div>"
      ],
      "text/plain": [
       "           X0        X1        X2        X3        X4    y     labels  b0  b1  \\\n",
       "188  0.819239 -0.094555 -1.209262 -0.131128 -0.544196  -27   1.057282   3   1   \n",
       "354  1.831594  1.073355 -0.735654  0.073380  1.668444  124  35.341036   1   0   \n",
       "98   1.224773  1.828570 -1.088847  1.137558 -0.099387   17   7.253636   0   2   \n",
       "346  0.967673  0.213736 -0.184513  0.789442  1.038730   81  28.073682   1   1   \n",
       "355  1.360334 -0.337291 -0.814275 -0.874890  1.511346   84  22.201354   3   0   \n",
       "318 -0.442565  1.109052 -1.669531  0.773916  1.089720  -96 -69.760346   2   0   \n",
       "162 -0.919113 -0.814049  0.073510 -0.299959 -0.226849  -63 -31.621136   0   1   \n",
       "23  -2.238698 -0.006450  1.203413  0.014772  0.223556  -76 -16.796488   0   1   \n",
       "337  0.760865  0.838277  0.549861 -0.489319  0.813946  103  52.775311   1   0   \n",
       "498  0.274038 -0.241449  2.386236  1.117444 -0.855137  131  51.609444   1   2   \n",
       "\n",
       "     b2  b3  b4  \n",
       "188   2   1   2  \n",
       "354   3   1   0  \n",
       "98    1   1   1  \n",
       "346   2   0   1  \n",
       "355   0   0   2  \n",
       "318   3   1   1  \n",
       "162   2   1   1  \n",
       "23    0   1   1  \n",
       "337   1   0   1  \n",
       "498   1   1   0  "
      ]
     },
     "execution_count": 63,
     "metadata": {},
     "output_type": "execute_result"
    }
   ],
   "source": [
    "df = pd.DataFrame(clf.X[0][:, :5], columns=[\"X0\", \"X1\", \"X2\", \"X3\", \"X4\"])\n",
    "df[\"y\"] = clf.y[0].astype(int)\n",
    "df[\"labels\"] = clf.labels[0]\n",
    "\n",
    "B = 5\n",
    "pb = np.random.poisson(1, [len(clf.y[0]), B])\n",
    "\n",
    "for i in range(B):\n",
    "    df[\"b\" + str(i)] = pb[:, i]\n",
    "\n",
    "print(\"*** Data and labels from the first fold of cross validation ***\")\n",
    "df.sample(10)"
   ]
  },
  {
   "cell_type": "markdown",
   "metadata": {},
   "source": [
    "## Оценка модели используя бутстрап"
   ]
  },
  {
   "cell_type": "code",
   "execution_count": 64,
   "metadata": {
    "code_folding": [
     0
    ],
    "scrolled": true
   },
   "outputs": [],
   "source": [
    "def run_bootstrap(labels, y, method=\"poisson\"):\n",
    "    N = len(y)\n",
    "    B = 1000\n",
    "    \n",
    "    if method == \"poisson\":\n",
    "        bootstrap = np.random.poisson(1, [N, B])\n",
    "    if method == \"multinomial\":\n",
    "        bootstrap = np.random.multinomial(B, [1/B]*B, N)\n",
    "    if method == \"binomial\":\n",
    "        bootstrap = np.random.binomial(N, 1/N, [N, B])\n",
    "    \n",
    "    R = []\n",
    "    \n",
    "    for i in range(B):\n",
    "        Y, L = [], []\n",
    "        \n",
    "        for j in range(N):\n",
    "            for k in range(bootstrap[j][i]):\n",
    "                L.append(labels[j])\n",
    "                Y.append(y[j])\n",
    "        \n",
    "        L = np.array(L)\n",
    "        Y = np.array(Y)\n",
    "        \n",
    "        R.append(1 - np.sum((L - Y)**2) / np.sum((Y.mean() - Y)**2))\n",
    "                \n",
    "    return R"
   ]
  },
  {
   "cell_type": "code",
   "execution_count": 65,
   "metadata": {
    "code_folding": [],
    "run_control": {
     "marked": false
    },
    "scrolled": false
   },
   "outputs": [
    {
     "name": "stdout",
     "output_type": "stream",
     "text": [
      "*** Estimating model by bootsraping its predicted labels for each fold ***\n",
      "*** poisson ***\n"
     ]
    },
    {
     "data": {
      "image/png": "[encoded data removed]",
      "text/plain": [
       "<Figure size 288x288 with 1 Axes>"
      ]
     },
     "metadata": {
      "needs_background": "light"
     },
     "output_type": "display_data"
    },
    {
     "name": "stdout",
     "output_type": "stream",
     "text": [
      "*** multinomial ***\n"
     ]
    },
    {
     "data": {
      "image/png": "[encoded data removed]",
      "text/plain": [
       "<Figure size 288x288 with 1 Axes>"
      ]
     },
     "metadata": {
      "needs_background": "light"
     },
     "output_type": "display_data"
    },
    {
     "name": "stdout",
     "output_type": "stream",
     "text": [
      "*** binomial ***\n"
     ]
    },
    {
     "data": {
      "image/png": "[encoded data removed]",
      "text/plain": [
       "<Figure size 288x288 with 1 Axes>"
      ]
     },
     "metadata": {
      "needs_background": "light"
     },
     "output_type": "display_data"
    }
   ],
   "source": [
    "print(\"*** Estimating model by bootsraping its predicted labels for each fold ***\")\n",
    "\n",
    "for bs in [\"poisson\", \"multinomial\", \"binomial\"]:\n",
    "    plt.subplots(figsize=(4, 4))\n",
    "    \n",
    "    for i in range(len(clf.labels)):\n",
    "        R = run_bootstrap(clf.labels[i], clf.y[i], bs)\n",
    "\n",
    "        plt.hist(R, histtype=\"step\")\n",
    "        plt.xlim(0, 1.05)\n",
    "        plt.xlabel(\"R2\")\n",
    "\n",
    "    print(\"*** \" + bs + \" ***\")\n",
    "    plt.savefig(\"r2_.png\")\n",
    "    plt.show()"
   ]
  },
  {
   "cell_type": "code",
   "execution_count": null,
   "metadata": {},
   "outputs": [],
   "source": []
  }
 ],
 "metadata": {
  "kernelspec": {
   "display_name": "Python 3",
   "language": "python",
   "name": "python3"
  },
  "language_info": {
   "codemirror_mode": {
    "name": "ipython",
    "version": 3
   },
   "file_extension": ".py",
   "mimetype": "text/x-python",
   "name": "python",
   "nbconvert_exporter": "python",
   "pygments_lexer": "ipython3",
   "version": "3.8.3"
  },
  "toc": {
   "base_numbering": 1,
   "nav_menu": {},
   "number_sections": true,
   "sideBar": true,
   "skip_h1_title": false,
   "title_cell": "Table of Contents",
   "title_sidebar": "Contents",
   "toc_cell": false,
   "toc_position": {},
   "toc_section_display": true,
   "toc_window_display": false
  },
  "varInspector": {
   "cols": {
    "lenName": 16,
    "lenType": 16,
    "lenVar": 40
   },
   "kernels_config": {
    "python": {
     "delete_cmd_postfix": "",
     "delete_cmd_prefix": "del ",
     "library": "var_list.py",
     "varRefreshCmd": "print(var_dic_list())"
    },
    "r": {
     "delete_cmd_postfix": ") ",
     "delete_cmd_prefix": "rm(",
     "library": "var_list.r",
     "varRefreshCmd": "cat(var_dic_list()) "
    }
   },
   "types_to_exclude": [
    "module",
    "function",
    "builtin_function_or_method",
    "instance",
    "_Feature"
   ],
   "window_display": false
  }
 },
 "nbformat": 4,
 "nbformat_minor": 4
}
